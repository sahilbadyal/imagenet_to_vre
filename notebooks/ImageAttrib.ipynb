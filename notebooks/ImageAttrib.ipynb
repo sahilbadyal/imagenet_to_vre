{
 "cells": [
  {
   "cell_type": "code",
   "execution_count": 4,
   "metadata": {},
   "outputs": [],
   "source": [
    "from scipy.io import loadmat\n",
    "mat = loadmat('./Attributed/attrann.mat')\n",
    "matdata =  mat['attrann'] "
   ]
  },
  {
   "cell_type": "code",
   "execution_count": 38,
   "metadata": {},
   "outputs": [],
   "source": [
    "import numpy as np\n",
    "attribMap = {}\n",
    "def getAllAttrib():\n",
    "    for i in range(len(matdata[0][0][0])):\n",
    "        internal_map = {}\n",
    "        internal_map['attrib'] = []\n",
    "        internal_map['bb'] = []\n",
    "        fileName = matdata[0][0][0][i][0][0]\n",
    "        attributes =  matdata[0][0][1][0]\n",
    "        presence =  matdata[0][0][2][i]\n",
    "        for i,x in enumerate(presence):\n",
    "            if x == 1:\n",
    "                internal_map['attrib'].append(attributes[i][0])\n",
    "        bbox = matdata[0][0][3][i][0]\n",
    "        for i in range(4):\n",
    "            internal_map['bb'].append(np.round(bbox[i][0][0], 3))\n",
    "        attribMap[fileName] = internal_map"
   ]
  },
  {
   "cell_type": "code",
   "execution_count": 39,
   "metadata": {},
   "outputs": [],
   "source": [
    "getAllAttrib()"
   ]
  },
  {
   "cell_type": "code",
   "execution_count": 41,
   "metadata": {},
   "outputs": [],
   "source": [
    "import json \n",
    "with open(\"attribMap.json\", \"w\") as f:\n",
    "    json.dump(attribMap, f)"
   ]
  },
  {
   "cell_type": "code",
   "execution_count": null,
   "metadata": {},
   "outputs": [],
   "source": []
  }
 ],
 "metadata": {
  "kernelspec": {
   "display_name": "Python 3",
   "language": "python",
   "name": "python3"
  },
  "language_info": {
   "codemirror_mode": {
    "name": "ipython",
    "version": 3
   },
   "file_extension": ".py",
   "mimetype": "text/x-python",
   "name": "python",
   "nbconvert_exporter": "python",
   "pygments_lexer": "ipython3",
   "version": "3.8.5"
  }
 },
 "nbformat": 4,
 "nbformat_minor": 4
}
