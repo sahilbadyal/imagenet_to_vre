{
 "cells": [
  {
   "cell_type": "code",
   "execution_count": 1,
   "metadata": {},
   "outputs": [],
   "source": [
    "from scipy.io import loadmat\n",
    "mat = loadmat('./Attributed/attrann.mat')\n",
    "matdata =  mat['attrann'] "
   ]
  },
  {
   "cell_type": "code",
   "execution_count": 2,
   "metadata": {},
   "outputs": [],
   "source": [
    "URI = \"http://www.image-net.org/api/text/imagenet.synset.geturls.getmapping?wnid=\""
   ]
  },
  {
   "cell_type": "code",
   "execution_count": 3,
   "metadata": {},
   "outputs": [],
   "source": [
    "import urllib.request"
   ]
  },
  {
   "cell_type": "code",
   "execution_count": 4,
   "metadata": {},
   "outputs": [],
   "source": [
    "url_map = {}"
   ]
  },
  {
   "cell_type": "code",
   "execution_count": 5,
   "metadata": {},
   "outputs": [],
   "source": [
    "from os import path\n",
    "from time import sleep\n",
    "def getAllURLMaps():\n",
    "    for i in range(len(matdata[0][0][0])):\n",
    "        if(i<=3302):\n",
    "            continue\n",
    "        fileName = matdata[0][0][0][i][0][0]\n",
    "        if(path.exists('./data/'+fileName+'.jpg')):\n",
    "            print(f\"{fileName} exists\")\n",
    "            continue\n",
    "        if fileName in url_map:\n",
    "            pass\n",
    "            #print(f\"Found {fileName}\")\n",
    "        else:\n",
    "            try:\n",
    "                f = urllib.request.urlopen(URI+fileName.split(\"_\")[0])\n",
    "                x = f.read().decode('utf-8').split(\"\\n\")\n",
    "            except:\n",
    "                print(f\"could not load mapping file {fileName}\\n\")\n",
    "                continue\n",
    "            for v in x:\n",
    "                spl = v.strip().split(\" \")\n",
    "                #print(spl)\n",
    "                if(len(spl)==2):\n",
    "                    url_map[spl[0]] = spl[1]\n",
    "        try:\n",
    "            urllib.request.urlretrieve(url_map[fileName], \"./data/\"+fileName+\".jpg\")\n",
    "        except:\n",
    "            print(\"error\")\n",
    "        print(i)\n",
    "        sleep(0.1)"
   ]
  },
  {
   "cell_type": "code",
   "execution_count": null,
   "metadata": {},
   "outputs": [
    {
     "name": "stdout",
     "output_type": "stream",
     "text": [
      "error\n",
      "3303\n",
      "error\n",
      "3304\n",
      "error\n",
      "3305\n",
      "error\n",
      "3306\n",
      "3307\n",
      "3308\n",
      "3309\n",
      "3310\n",
      "error\n",
      "3311\n",
      "3312\n",
      "error\n",
      "3313\n",
      "error\n",
      "3314\n",
      "error\n",
      "3315\n",
      "3316\n",
      "error\n",
      "3317\n",
      "error\n",
      "3318\n",
      "error\n",
      "3319\n",
      "3320\n",
      "3321\n",
      "error\n",
      "3322\n"
     ]
    }
   ],
   "source": [
    "getAllURLMaps()"
   ]
  },
  {
   "cell_type": "markdown",
   "metadata": {},
   "source": [
    "n02384741_107"
   ]
  },
  {
   "cell_type": "code",
   "execution_count": null,
   "metadata": {},
   "outputs": [],
   "source": []
  }
 ],
 "metadata": {
  "kernelspec": {
   "display_name": "Python 3",
   "language": "python",
   "name": "python3"
  },
  "language_info": {
   "codemirror_mode": {
    "name": "ipython",
    "version": 3
   },
   "file_extension": ".py",
   "mimetype": "text/x-python",
   "name": "python",
   "nbconvert_exporter": "python",
   "pygments_lexer": "ipython3",
   "version": "3.8.5"
  }
 },
 "nbformat": 4,
 "nbformat_minor": 4
}
