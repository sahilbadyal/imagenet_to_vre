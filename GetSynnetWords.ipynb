{
 "cells": [
  {
   "cell_type": "code",
   "execution_count": 1,
   "metadata": {},
   "outputs": [],
   "source": [
    "from scipy.io import loadmat \n",
    "mat = loadmat('./Attributed/attrann.mat')\n",
    "matdata =  mat['attrann']"
   ]
  },
  {
   "cell_type": "code",
   "execution_count": 2,
   "metadata": {},
   "outputs": [],
   "source": [
    "URL = \"http://www.image-net.org/api/text/wordnet.synset.getwords?wnid=\""
   ]
  },
  {
   "cell_type": "code",
   "execution_count": 3,
   "metadata": {},
   "outputs": [],
   "source": [
    "import urllib.request as req"
   ]
  },
  {
   "cell_type": "code",
   "execution_count": 4,
   "metadata": {},
   "outputs": [],
   "source": [
    "wordMap = {}\n",
    "def saveImageWords():\n",
    "    for i in range(len(matdata[0][0][0])):\n",
    "#         if i > 1:\n",
    "#             break\n",
    "        fileName = matdata[0][0][0][i][0][0]\n",
    "        syn = fileName.split(\"_\")[0]\n",
    "        if syn in wordMap:\n",
    "            continue\n",
    "            print(f\"Found {syn}\")\n",
    "        else:\n",
    "            try:\n",
    "                f = req.urlopen(URL+syn)\n",
    "                x = f.read().decode('utf-8').strip()\n",
    "                wordMap[syn] = x\n",
    "                #print(x)\n",
    "            except:\n",
    "                print(f\"could not load mapping file {fileName}\\n\")\n",
    "                continue\n"
   ]
  },
  {
   "cell_type": "code",
   "execution_count": 5,
   "metadata": {},
   "outputs": [],
   "source": [
    "saveImageWords()"
   ]
  },
  {
   "cell_type": "code",
   "execution_count": 8,
   "metadata": {},
   "outputs": [],
   "source": [
    "for x in wordMap:\n",
    "    wordMap[x] = [y for y in wordMap[x].split(\"\\n\")]"
   ]
  },
  {
   "cell_type": "code",
   "execution_count": 11,
   "metadata": {},
   "outputs": [],
   "source": [
    "import json \n",
    "with open(\"syntoword.json\", \"w\") as f:\n",
    "    json.dump(wordMap, f)"
   ]
  },
  {
   "cell_type": "code",
   "execution_count": null,
   "metadata": {},
   "outputs": [],
   "source": []
  }
 ],
 "metadata": {
  "kernelspec": {
   "display_name": "Python 3",
   "language": "python",
   "name": "python3"
  },
  "language_info": {
   "codemirror_mode": {
    "name": "ipython",
    "version": 3
   },
   "file_extension": ".py",
   "mimetype": "text/x-python",
   "name": "python",
   "nbconvert_exporter": "python",
   "pygments_lexer": "ipython3",
   "version": "3.8.5"
  }
 },
 "nbformat": 4,
 "nbformat_minor": 4
}
