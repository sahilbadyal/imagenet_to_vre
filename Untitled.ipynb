{
 "cells": [
  {
   "cell_type": "code",
   "execution_count": 1,
   "metadata": {},
   "outputs": [],
   "source": [
    "import numpy as np\n",
    "import cv2\n",
    "from random import sample\n",
    "import os"
   ]
  },
  {
   "cell_type": "code",
   "execution_count": 2,
   "metadata": {},
   "outputs": [],
   "source": [
    "def showImage(x):\n",
    "    cv2.imshow(\"image\", x)\n",
    "    cv2.waitKey(0)  \n",
    "    #closing all open windows  \n",
    "    cv2.destroyAllWindows()  "
   ]
  },
  {
   "cell_type": "code",
   "execution_count": 3,
   "metadata": {},
   "outputs": [],
   "source": [
    "def create_collage(input_dir, collage_size):\n",
    "    r, c = collage_size\n",
    "    images_outers= []\n",
    "    for i in range(r):\n",
    "        images = []\n",
    "        for image_name in sample(os.listdir(input_dir), c):\n",
    "            print(image_name)\n",
    "            image = cv2.imread(os.path.join(input_dir, image_name))\n",
    "            image = cv2.resize(image, (300, 200))\n",
    "            images.append(image)\n",
    "        image_outer = np.hstack(images)\n",
    "        images_outers.append(image_outer)\n",
    "    return(np.vstack(images_outers))"
   ]
  },
  {
   "cell_type": "code",
   "execution_count": null,
   "metadata": {},
   "outputs": [
    {
     "name": "stdout",
     "output_type": "stream",
     "text": [
      "n07686202_264.jpg\n",
      "n04460130_10985.jpg\n",
      "n02488702_1941.jpg\n",
      "n07859583_13835.jpg\n",
      "n02928608_6617.jpg\n",
      "n02131653_10944.jpg\n",
      "n02115913_1493.jpg\n",
      "n07869937_1490.jpg\n",
      "n02128925_12348.jpg\n"
     ]
    }
   ],
   "source": [
    "showImage(create_collage('./data/', (3,3)))"
   ]
  },
  {
   "cell_type": "code",
   "execution_count": null,
   "metadata": {},
   "outputs": [],
   "source": [
    "showImage(create_collage('./data/', (2,2)))"
   ]
  }
 ],
 "metadata": {
  "kernelspec": {
   "display_name": "Python 3",
   "language": "python",
   "name": "python3"
  },
  "language_info": {
   "codemirror_mode": {
    "name": "ipython",
    "version": 3
   },
   "file_extension": ".py",
   "mimetype": "text/x-python",
   "name": "python",
   "nbconvert_exporter": "python",
   "pygments_lexer": "ipython3",
   "version": "3.8.5"
  }
 },
 "nbformat": 4,
 "nbformat_minor": 4
}
