{
 "cells": [
  {
   "cell_type": "code",
   "execution_count": 1,
   "metadata": {},
   "outputs": [],
   "source": [
    "from scipy.io import loadmat \n",
    "mat = loadmat('./Attributed/attrann.mat')\n",
    "matdata =  mat['attrann']"
   ]
  },
  {
   "cell_type": "code",
   "execution_count": 4,
   "metadata": {},
   "outputs": [],
   "source": [
    "synIdMap = {}\n",
    "def syntoid():\n",
    "    for i in range(len(matdata[0][0][0])):\n",
    "        fileName = matdata[0][0][0][i][0][0]\n",
    "        syn = fileName.split(\"_\")[0]\n",
    "        if syn in synIdMap:\n",
    "            synIdMap[syn].append(fileName)\n",
    "        else:\n",
    "            synIdMap[syn] = []"
   ]
  },
  {
   "cell_type": "code",
   "execution_count": 5,
   "metadata": {},
   "outputs": [],
   "source": [
    "syntoid()"
   ]
  },
  {
   "cell_type": "code",
   "execution_count": 6,
   "metadata": {},
   "outputs": [],
   "source": [
    "import json \n",
    "with open(\"syntoid.json\", \"w\") as f:\n",
    "    json.dump(synIdMap, f)"
   ]
  },
  {
   "cell_type": "code",
   "execution_count": null,
   "metadata": {},
   "outputs": [],
   "source": []
  }
 ],
 "metadata": {
  "kernelspec": {
   "display_name": "Python 3",
   "language": "python",
   "name": "python3"
  },
  "language_info": {
   "codemirror_mode": {
    "name": "ipython",
    "version": 3
   },
   "file_extension": ".py",
   "mimetype": "text/x-python",
   "name": "python",
   "nbconvert_exporter": "python",
   "pygments_lexer": "ipython3",
   "version": "3.8.5"
  }
 },
 "nbformat": 4,
 "nbformat_minor": 4
}
